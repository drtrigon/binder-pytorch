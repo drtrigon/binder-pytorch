{
 "cells": [
  {
   "cell_type": "code",
   "execution_count": null,
   "id": "95f87780-0e2a-4e51-b4ea-4e4d30eea366",
   "metadata": {},
   "outputs": [
    {
     "name": "stderr",
     "output_type": "stream",
     "text": [
      "/srv/conda/envs/notebook/lib/python3.10/site-packages/torch/nn/modules/loss.py:535: UserWarning: Using a target size (torch.Size([10, 1])) that is different to the input size (torch.Size([10, 1, 1])). This will likely lead to incorrect results due to broadcasting. Please ensure they have the same size.\n",
      "  return F.mse_loss(input, target, reduction=self.reduction)\n"
     ]
    }
   ],
   "source": [
    "# https://medium.com/@gpj/predict-next-number-using-pytorch-47187c1b8e33\n",
    "\n",
    "import torch\n",
    "import torch.nn as nn\n",
    "\n",
    "# Define the model\n",
    "class NextNumberPredictor(nn.Module):\n",
    "  def __init__(self, input_size, hidden_size, output_size):\n",
    "    super(NextNumberPredictor, self).__init__()\n",
    "    self.lstm = nn.LSTM(input_size, hidden_size)\n",
    "    self.fc = nn.Linear(hidden_size, output_size)\n",
    "  \n",
    "  def forward(self, x):\n",
    "    x, _ = self.lstm(x)\n",
    "    x = self.fc(x)\n",
    "    return x\n",
    "\n",
    "  # Train the model\n",
    "  def train(model, data, loss_fn, optimizer, num_epochs):\n",
    "    for epoch in range(num_epochs):\n",
    "      for input_sequence, target in data:\n",
    "        input_sequence = torch.Tensor(input_sequence).view(len(input_sequence), 1, -1)\n",
    "        target = torch.Tensor(target).view(len(target), -1)\n",
    "      \n",
    "        # Forward pass\n",
    "        output = model(input_sequence)\n",
    "        loss = loss_fn(output, target)\n",
    "      \n",
    "        # Backward pass\n",
    "        optimizer.zero_grad()\n",
    "        loss.backward()\n",
    "        optimizer.step()\n",
    "\n",
    "  # Test the model\n",
    "  def test(model, data, loss_fn):\n",
    "    total_loss = 0\n",
    "    for input_sequence, target in data:\n",
    "      input_sequence = torch.Tensor(input_sequence).view(len(input_sequence), 1, -1)\n",
    "      target = torch.Tensor(target).view(len(target), -1)\n",
    "      output = model(input_sequence)\n",
    "      total_loss += loss_fn(output, target).item()\n",
    "    return total_loss / len(data)\n",
    "\n",
    "# Setup the model, data, loss function and optimizer\n",
    "model = NextNumberPredictor(1, 32, 1)\n",
    "data = [(list(range(10)), list(range(1, 11))), (list(range(10, 20)), list(range(11, 21)))]\n",
    "loss_fn = nn.MSELoss()\n",
    "optimizer = torch.optim.Adam(model.parameters())\n",
    "\n",
    "# Train the model\n",
    "model.train(data, loss_fn, optimizer, num_epochs=100)\n",
    "\n",
    "# Use the model to make predictions\n",
    "input_sequence = torch.Tensor(list(range(10, 20))).view(10, 1, -1)\n",
    "output = model(input_sequence)\n",
    "prediction = output[-1].item()\n",
    "print(f'Predicted next number: {prediction:.4f}')"
   ]
  },
  {
   "cell_type": "code",
   "execution_count": null,
   "id": "4243f35d-7b5e-48ba-9f0b-8b69ca3ff567",
   "metadata": {},
   "outputs": [],
   "source": []
  }
 ],
 "metadata": {
  "kernelspec": {
   "display_name": "Python 3 (ipykernel)",
   "language": "python",
   "name": "python3"
  },
  "language_info": {
   "codemirror_mode": {
    "name": "ipython",
    "version": 3
   },
   "file_extension": ".py",
   "mimetype": "text/x-python",
   "name": "python",
   "nbconvert_exporter": "python",
   "pygments_lexer": "ipython3",
   "version": "3.10.14"
  }
 },
 "nbformat": 4,
 "nbformat_minor": 5
}
